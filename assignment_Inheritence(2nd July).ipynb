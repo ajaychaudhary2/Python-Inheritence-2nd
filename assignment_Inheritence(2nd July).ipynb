{
 "cells": [
  {
   "cell_type": "code",
   "execution_count": null,
   "metadata": {},
   "outputs": [],
   "source": []
  },
  {
   "cell_type": "markdown",
   "metadata": {},
   "source": [
    " # Question 1\n",
    " ## Explain what inheritance is in object-oriented programming and why it is used.Explain what inheritance is in object-oriented programming and why it is used."
   ]
  },
  {
   "cell_type": "markdown",
   "metadata": {},
   "source": [
    "# Solution 1"
   ]
  },
  {
   "cell_type": "markdown",
   "metadata": {},
   "source": [
    " ### Inheritance is a fundamental concept in object-oriented programming (OOP) where a new class (subclass or derived class) is created from an existing class (superclass or base class). The new class inherits attributes and behaviors (methods) from the existing class, allowing for code reuse and the creation of hierarchical relationships between classes.  inheritance is a powerful mechanism in object-oriented programming that promotes code reuse, hierarchical modeling, and polymorphic behavior, leading to more efficient and maintainable software systems."
   ]
  },
  {
   "cell_type": "code",
   "execution_count": 33,
   "metadata": {},
   "outputs": [],
   "source": [
    "## Exa[mple of inheritence\n",
    "\n",
    "class Animal:\n",
    "\n",
    "    def __init__(self ,species):\n",
    "\n",
    "        self.species = species\n",
    "\n",
    "    def sound(self):\n",
    "        pass\n",
    "\n",
    "class dog(Animal):\n",
    "\n",
    "    def __init__(self, Name):\n",
    "        super().__init__(\"dog\")\n",
    "\n",
    "        self.Name = Name\n",
    "\n",
    "    def sound(self):\n",
    "\n",
    "        print(f\"The dog {self.Name} woof\")\n",
    "\n",
    "\n",
    "class cat(Animal):\n",
    "\n",
    "    def __init__(self, Name):\n",
    "        super().__init__('cat')\n",
    "\n",
    "        self.Name = Name\n",
    "\n",
    "    def sound(self):\n",
    "\n",
    "        print(f\"The cat {cat.Name} meow\")\n",
    "\n",
    "\n",
    "\n",
    "          \n"
   ]
  },
  {
   "cell_type": "code",
   "execution_count": 34,
   "metadata": {},
   "outputs": [
    {
     "name": "stdout",
     "output_type": "stream",
     "text": [
      "The dog bunny woof\n",
      "The cat bun meow\n"
     ]
    }
   ],
   "source": [
    "dog = dog(\"bunny\" )\n",
    "\n",
    "cat = cat(\"bun\")\n",
    "\n",
    "dog.sound()\n",
    "\n",
    "cat.sound()\n"
   ]
  },
  {
   "cell_type": "markdown",
   "metadata": {},
   "source": [
    "# Question 2\n",
    "\n",
    "## Discuss the concept of single inheritance and multiple inheritance, highlighting their differences and advantages."
   ]
  },
  {
   "cell_type": "markdown",
   "metadata": {},
   "source": [
    "# Solution 2"
   ]
  },
  {
   "cell_type": "markdown",
   "metadata": {},
   "source": [
    "# Single Inheritance:\n",
    "## In single inheritance, a class can inherit from only one base class. That means each derived class has only one immediate parent class. This ## parent-child relationship forms a hierarchical structure.\n"
   ]
  },
  {
   "cell_type": "code",
   "execution_count": null,
   "metadata": {},
   "outputs": [],
   "source": [
    "# Example of single inheritence \n",
    "class parent:\n",
    "    pass\n",
    "\n",
    "class child(parent): # here we only add one base class to parent class\n",
    "    pass"
   ]
  },
  {
   "cell_type": "markdown",
   "metadata": {},
   "source": [
    "# Advantages of single inheritence\n"
   ]
  },
  {
   "cell_type": "markdown",
   "metadata": {},
   "source": [
    "## 1. simplecity - code is simple and  esaily understable by others\n",
    "\n",
    "## 2 less complexicity - In single inheritence  less complex code because here only a pne parent class "
   ]
  },
  {
   "cell_type": "markdown",
   "metadata": {},
   "source": [
    "# multiple inheritence"
   ]
  },
  {
   "cell_type": "markdown",
   "metadata": {},
   "source": [
    "## In multiple inheritance, a class can inherit from more than one base class. This means a derived class can have multiple parent classes, allowing it to inherit attributes"
   ]
  },
  {
   "cell_type": "code",
   "execution_count": null,
   "metadata": {},
   "outputs": [],
   "source": [
    "class parent1:\n",
    "\n",
    "    pass\n",
    "\n",
    "class parent2:\n",
    "\n",
    "    pass\n",
    "\n",
    "\n",
    "class child(parent1 , parent2): # here we use 2  parent class or two base class in class child\n",
    "\n",
    "    pass\n"
   ]
  },
  {
   "cell_type": "markdown",
   "metadata": {},
   "source": [
    "# Advantages of multiple inheritence\n"
   ]
  },
  {
   "cell_type": "markdown",
   "metadata": {},
   "source": [
    "## 1.Enhanced Flexibility: Multiple inheritance allows a class to inherit attributes and methods from multiple sources, providing greater flexibility in designing complex class relationships.\n",
    "\n",
    "## 2.Promotes Code Reusability: It enables a class to inherit functionalities from multiple base classes, promoting code reusability and reducing redundancy."
   ]
  },
  {
   "cell_type": "markdown",
   "metadata": {},
   "source": [
    "## -> Here are some differences    "
   ]
  },
  {
   "cell_type": "markdown",
   "metadata": {},
   "source": [
    "## In single  inheritence we   only add one base class  along though in multiple inheritence  we add two or more classes \n",
    "\n",
    "## In multiple inheritence  the code complexicity is  more      but in single inheritence the code complexicity is less"
   ]
  },
  {
   "cell_type": "markdown",
   "metadata": {},
   "source": [
    "# Question 3\n",
    "## Explain the terms \"base class\" and \"derived class\" in the context of inheritance."
   ]
  },
  {
   "cell_type": "markdown",
   "metadata": {},
   "source": [
    "# Solution 3\n"
   ]
  },
  {
   "cell_type": "markdown",
   "metadata": {},
   "source": [
    "# Base class -> the base class is called parent class or super class  it was the blueprint of the  derived class   in the base c;ass we   define the   attributes which method and  attributes are   inherted by the child class"
   ]
  },
  {
   "cell_type": "markdown",
   "metadata": {},
   "source": [
    "# Derived class -> the derived class is called  child class or superclass derived classes can have their own unique attributes and methods in addition to those inherited from the base class. The derived class is the class that inherits attributes and methods from a base class."
   ]
  },
  {
   "cell_type": "code",
   "execution_count": 2,
   "metadata": {},
   "outputs": [
    {
     "name": "stdout",
     "output_type": "stream",
     "text": [
      "the beleno is made by maruti suzuki\n"
     ]
    }
   ],
   "source": [
    "# example of  base and  derived class\n",
    "\n",
    "class Vehical: # this is a   base class or  parent class\n",
    "    def __init__(self , model , brand):\n",
    "        self.model = model\n",
    "        self.brand = brand\n",
    "\n",
    "\n",
    "class Car(Vehical):# this is a derived class whicjh take the attributes from the base class\n",
    "    def __init__(self, model, brand):\n",
    "        super().__init__(model, brand)\n",
    "\n",
    "    \n",
    "car1 = Car(\"beleno\" , \"maruti suzuki\")\n",
    "\n",
    "print(f\"The {car1.model} is made by {car1.brand}\")"
   ]
  },
  {
   "cell_type": "markdown",
   "metadata": {},
   "source": [
    "# Question 4\n",
    "## What is the significance of the \"protected\" access modifier in inheritance? How does it differ from \"private\" and \"public\" modifiers?"
   ]
  },
  {
   "cell_type": "markdown",
   "metadata": {},
   "source": [
    "# Solution 4"
   ]
  },
  {
   "cell_type": "markdown",
   "metadata": {},
   "source": [
    "# Public Access Modifier:-  \n",
    "  ##   1. Members marked as public are accessible from anywhere, both within the class and outside of it.\n",
    "##     2. They can be accessed by any other class or code that has access to the class instance.\n",
    "    \n",
    "# Private Access Modifier:-\n",
    " ##    1. Members marked as private are accessible only within the class itself.\n",
    "##     2. They cannot be accessed or modified directly by subclasses or external code.\n",
    "    \n",
    "# Protected Access Modifier:-  \n",
    "##     1. Members marked as protected are accessible within the class itself and by its subclasses (derived classes).\n",
    " ##    2. They cannot be accessed directly from outside the class, unlike public members, but they can be accessed and modified by subclasses.\n",
    " ##    3. Protected members provide a level of encapsulation while still allowing subclasses to access and extend the functionality of the base class.\n",
    "    "
   ]
  },
  {
   "cell_type": "markdown",
   "metadata": {},
   "source": [
    "# Question 5\n",
    "\n",
    "## What is the purpose of the \"super\" keyword in inheritance? Provide an example."
   ]
  },
  {
   "cell_type": "markdown",
   "metadata": {},
   "source": [
    "# Solution 5"
   ]
  },
  {
   "cell_type": "markdown",
   "metadata": {},
   "source": [
    "## The super keyword in inheritence is use to call methods and constructors frm the super class or  base class to the  subclass or  derivedclass here is the example ;"
   ]
  },
  {
   "cell_type": "code",
   "execution_count": 3,
   "metadata": {},
   "outputs": [
    {
     "name": "stdout",
     "output_type": "stream",
     "text": [
      "The Dk is teach us subject Math\n"
     ]
    }
   ],
   "source": [
    "class person:\n",
    "\n",
    "    def __init__(self , name , age):\n",
    "\n",
    "        self.name = name\n",
    "        \n",
    "        self.age = age\n",
    "\n",
    "\n",
    "\n",
    "class Teacher(person):\n",
    "    def __init__(self, name, age , subject):\n",
    "        super().__init__(name, age) ## here we use the attributes of the base class person  by use the super method\n",
    "\n",
    "        self.subject = subject\n",
    "\n",
    "\n",
    "person1 = Teacher(\"Dk\" , 26 ,\"Math\")\n",
    "\n",
    "print(f\"The {person1.name} is teach us subject {person1.subject}\")\n"
   ]
  },
  {
   "cell_type": "markdown",
   "metadata": {},
   "source": [
    "# Question 6\n",
    "\n",
    "## Create a base class called \"Vehicle\" with attributes like \"make\", \"model\", and \"year\". Then, create a derived class called \"Car\" that inherits from \"Vehicle\" and adds an attribute called \"fuel_type\". Implement appropriate methods in both classes."
   ]
  },
  {
   "cell_type": "markdown",
   "metadata": {},
   "source": [
    "# Solution 6"
   ]
  },
  {
   "cell_type": "code",
   "execution_count": 4,
   "metadata": {},
   "outputs": [],
   "source": [
    "class Vehical:\n",
    "\n",
    "    def __init__(self , make , model , year ):\n",
    "\n",
    "\n",
    "        self.make = make\n",
    "\n",
    "        self.model = model\n",
    "\n",
    "        self.year = year \n",
    "\n",
    "        "
   ]
  },
  {
   "cell_type": "code",
   "execution_count": 7,
   "metadata": {},
   "outputs": [],
   "source": [
    "class Car(Vehical):\n",
    "\n",
    "    def __init__(self, make, model, year , fuel_type):\n",
    "        \n",
    "        super().__init__(make, model, year)\n",
    "        self.fuel_type = fuel_type\n",
    "\n",
    "    def display_info(self):\n",
    "\n",
    "        print(\"Car Info :\")\n",
    "\n",
    "\n",
    "        print(f\"Make by :  {self.make}\")\n",
    "\n",
    "      \n",
    "\n",
    "        print(f\"Model : {self.model}\")\n",
    "\n",
    "        \n",
    "\n",
    "        print(f\"Year : {self.year}\")\n",
    "\n",
    "        \n",
    "        print(f\"Fuel Type : {self.fuel_type}\")\n",
    "\n",
    "\n",
    "        "
   ]
  },
  {
   "cell_type": "code",
   "execution_count": 8,
   "metadata": {},
   "outputs": [
    {
     "name": "stdout",
     "output_type": "stream",
     "text": [
      "Car Info :\n",
      "Make by :  Maruti Suzuki\n",
      "Model : Swift\n",
      "Year : 2024\n",
      "Fuel Type : Petrol\n"
     ]
    }
   ],
   "source": [
    "Car1 = Car(\"Maruti Suzuki\" , \"Swift\" , 2024 , \"Petrol\")\n",
    "\n",
    "Car1.display_info()"
   ]
  },
  {
   "cell_type": "markdown",
   "metadata": {},
   "source": [
    "# Question 7 \n",
    "\n",
    "## Create a base class called \"Employee\" with attributes like \"name\" and \"salary.\"  Derive two classes, \"Manager\" and \"Developer,\" from \"Employee.\" Add an additional  attribute called \"department\" for the \"Manager\" class and \"programming_language\" for the \"Developer\" class."
   ]
  },
  {
   "cell_type": "markdown",
   "metadata": {},
   "source": [
    "# Solution 7 "
   ]
  },
  {
   "cell_type": "code",
   "execution_count": 10,
   "metadata": {},
   "outputs": [],
   "source": [
    "class Employee:# it is a base class    tat mention in the question\n",
    "\n",
    "    def __init__(self , name , salary):\n",
    "\n",
    "        self.name = name\n",
    "\n",
    "        self.salary = salary\n",
    "\n",
    "     "
   ]
  },
  {
   "cell_type": "code",
   "execution_count": 11,
   "metadata": {},
   "outputs": [],
   "source": [
    "class Manager(Employee):\n",
    "\n",
    "    def __init__(self, name, salary , department):\n",
    "\n",
    "        super().__init__(name, salary)\n",
    "\n",
    "        self.department = department\n",
    "\n",
    "    def display_info(self):\n",
    "\n",
    "        print('Employee Info')\n",
    "        \n",
    "        print(f\"Employee name : {self.name}\")\n",
    "\n",
    "        print(\"Degisnation : Manager\")\n",
    "\n",
    "        print(f\"Salary : {self.salary}\")\n",
    "\n",
    "        print(f\"Department {self.department}\")\n",
    "        "
   ]
  },
  {
   "cell_type": "code",
   "execution_count": 21,
   "metadata": {},
   "outputs": [],
   "source": [
    "class Developer(Employee):\n",
    "    \n",
    "    def __init__(self, name, salary , programming_langauge):\n",
    "\n",
    "        super().__init__(name, salary)\n",
    "\n",
    "        self.programming_langauge = programming_langauge\n",
    "\n",
    "    \n",
    "    def display_info(self):\n",
    "\n",
    "        print('Employee Info')\n",
    "        \n",
    "        print(f\"Employee name : {self.name}\")\n",
    "\n",
    "        print(\"Degisnation : Developer\")\n",
    "\n",
    "        print(f\"Salary : {self.salary}\")\n",
    "\n",
    "        print(f\"programming_langauge: {self.programming_langauge}\")\n"
   ]
  },
  {
   "cell_type": "code",
   "execution_count": 23,
   "metadata": {},
   "outputs": [
    {
     "name": "stdout",
     "output_type": "stream",
     "text": [
      "Employee Info\n",
      "Employee name : Ajay\n",
      "Degisnation : Manager\n",
      "Salary : 70000\n",
      "Department Backend\n"
     ]
    }
   ],
   "source": [
    "Employee1 = Manager(\"Ajay\" , 70000 ,  \"Backend\")\n",
    "\n",
    "Employee1.display_info()"
   ]
  },
  {
   "cell_type": "code",
   "execution_count": 22,
   "metadata": {},
   "outputs": [
    {
     "name": "stdout",
     "output_type": "stream",
     "text": [
      "Employee Info\n",
      "Employee name : Ajay Chaudhary\n",
      "Degisnation : Developer\n",
      "Salary : 60000\n",
      "programming_langauge: Python\n"
     ]
    }
   ],
   "source": [
    "Employee2 = Developer(\"Ajay Chaudhary\" , 60000 , \"Python\")\n",
    "\n",
    "Employee2.display_info()"
   ]
  },
  {
   "cell_type": "markdown",
   "metadata": {},
   "source": [
    "# Question 8\n",
    "## Design a base class called \"Shape\" with attributes like \"colour\" and \"border_width.\" Create derived classes, \"Rectangle\" and \"Circle,\" that inherit from \"Shape\" and add specific attributes like \"length\" and \"width\" for the \"Rectangle\" class and \"radius\" for the \"Circle\" class."
   ]
  },
  {
   "cell_type": "markdown",
   "metadata": {},
   "source": [
    "# Solution 8"
   ]
  },
  {
   "cell_type": "code",
   "execution_count": 24,
   "metadata": {},
   "outputs": [],
   "source": [
    "class Shape:\n",
    "\n",
    "    def __init__(self , color , border_width) :\n",
    "\n",
    "        self.color = color\n",
    "\n",
    "        self.border_width = border_width\n",
    "\n",
    "        "
   ]
  },
  {
   "cell_type": "code",
   "execution_count": 30,
   "metadata": {},
   "outputs": [],
   "source": [
    "class Rectangle(Shape):\n",
    "     \n",
    "     def __init__(self, color, border_width , lenght , width):\n",
    "          \n",
    "          super().__init__(color, border_width)\n",
    "\n",
    "          self.lenght = lenght\n",
    "\n",
    "          self.width = width\n",
    "\n",
    "     def shape_info(self):\n",
    "          print(\"Shape Type : Rectangle\")\n",
    "          print(f\"Lenght = {self.lenght}\")\n",
    "          print(f\"Width = {self.width}\")\n",
    "          print(f\"color  : {self.color}\")\n",
    "          print(f\"border_width = {self.border_width}\")\n",
    "       \n",
    "\n",
    "\n",
    "\n",
    "     "
   ]
  },
  {
   "cell_type": "code",
   "execution_count": 33,
   "metadata": {},
   "outputs": [],
   "source": [
    "class Circle(Shape):\n",
    "    \n",
    "    def __init__(self, color, border_width , radius):\n",
    "\n",
    "        super().__init__(color, border_width)\n",
    "\n",
    "        self.radius = radius\n",
    "\n",
    "    def shape_info(self):\n",
    "        print(\"Shape Type : Circle\")\n",
    "        print(f\"Radius = {self.radius}\")\n",
    "        print(f\"color  : {self.color}\")\n",
    "        print(f\"border_width = {self.border_width}\")\n",
    "\n"
   ]
  },
  {
   "cell_type": "code",
   "execution_count": 31,
   "metadata": {},
   "outputs": [
    {
     "name": "stdout",
     "output_type": "stream",
     "text": [
      "Shape Type : Rectangle\n",
      "Lenght = 20cm\n",
      "Width = 30cm\n",
      "color  : Black\n",
      "border_width = 2mm\n"
     ]
    }
   ],
   "source": [
    "Shape1 = Rectangle(\"Black\" , \"2mm\" , \"20cm\" , \"30cm\")\n",
    "\n",
    "Shape1.shape_info()"
   ]
  },
  {
   "cell_type": "code",
   "execution_count": 34,
   "metadata": {},
   "outputs": [
    {
     "name": "stdout",
     "output_type": "stream",
     "text": [
      "Shape Type : Circle\n",
      "Radius = 23cm\n",
      "color  : Red\n",
      "border_width = 3mm\n"
     ]
    }
   ],
   "source": [
    "Shape2 = Circle(\"Red\" , \"3mm\" , '23cm')\n",
    "\n",
    "Shape2.shape_info()"
   ]
  },
  {
   "cell_type": "markdown",
   "metadata": {},
   "source": [
    "# Question 9 \n",
    "### Create a base class called \"Device\" with attributes like \"brand\" and \"model.\" Derive two classes, \"Phone\" and \"Tablet,\" from \"Device.\" Add specific attributes like \"screen_size\" for the \"Phone\" class and \"battery_capacity\" for the \"Tablet\" class."
   ]
  },
  {
   "cell_type": "markdown",
   "metadata": {},
   "source": [
    "# Solution 9"
   ]
  },
  {
   "cell_type": "code",
   "execution_count": 35,
   "metadata": {},
   "outputs": [],
   "source": [
    "class Device:\n",
    "\n",
    "    def __init__(self , brand , model):\n",
    "\n",
    "        self.brand = brand\n",
    "\n",
    "        self.model = model\n",
    "\n",
    "        \n",
    "         "
   ]
  },
  {
   "cell_type": "code",
   "execution_count": 37,
   "metadata": {},
   "outputs": [],
   "source": [
    "class Phone(Device):\n",
    "    \n",
    "    def __init__(self, brand, model , screen_size):\n",
    "\n",
    "        super().__init__(brand, model)\n",
    "\n",
    "        self.screen_size = screen_size\n",
    "\n",
    "    def display_info(self):\n",
    "\n",
    "        print(\"Mobile Info :\")\n",
    "\n",
    "        print(f\"Brand : {self.brand}\")\n",
    "        print(f\"Model : {self.model}\")\n",
    "        print(f\"Screen Size : {self.screen_size}\")\n",
    "        \n"
   ]
  },
  {
   "cell_type": "code",
   "execution_count": 38,
   "metadata": {},
   "outputs": [],
   "source": [
    "class Tablet(Device):\n",
    "\n",
    "    def __init__(self, brand, model , battery_capacity):\n",
    "\n",
    "        super().__init__(brand, model)\n",
    "\n",
    "        self.battery_capacity = battery_capacity\n",
    "\n",
    "\n",
    "    def display_info(self):\n",
    "\n",
    "        print(\"Tablet Info :\")\n",
    "\n",
    "        print(f\"Brand : {self.brand}\")\n",
    "        print(f\"Model : {self.model}\")\n",
    "        print(f\"Battery Capacity : {self.battery_capacity}\")\n",
    "\n",
    "    "
   ]
  },
  {
   "cell_type": "code",
   "execution_count": 39,
   "metadata": {},
   "outputs": [
    {
     "name": "stdout",
     "output_type": "stream",
     "text": [
      "Mobile Info :\n",
      "Brand : Vivo\n",
      "Model : v29\n",
      "Screen Size : 6.78 inches\n"
     ]
    }
   ],
   "source": [
    "Device1 = Phone(\"Vivo\" , \"v29\" , \"6.78 inches\")\n",
    "\n",
    "Device1.display_info()"
   ]
  },
  {
   "cell_type": "code",
   "execution_count": 40,
   "metadata": {},
   "outputs": [
    {
     "name": "stdout",
     "output_type": "stream",
     "text": [
      "Tablet Info :\n",
      "Brand : Samsung\n",
      "Model : T22\n",
      "Battery Capacity : 6000mAH\n"
     ]
    }
   ],
   "source": [
    "Device2 = Tablet(\"Samsung\" , \"T22\" , \"6000mAH\")\n",
    "Device2.display_info()"
   ]
  },
  {
   "cell_type": "markdown",
   "metadata": {},
   "source": [
    "# Question 10 \n",
    "### Create a base class called \"BankAccount\" with attributes like \"account_number\" and \"balance.\" Derive two classes, \"SavingsAccount\" and \"CheckingAccount,\" from \"BankAccount.\" Add specific methods like \"calculate_interest\" for the \"SavingsAccount\" class and \"deduct_fees\" for the \"CheckingAccount\" class."
   ]
  },
  {
   "cell_type": "markdown",
   "metadata": {},
   "source": [
    "# Solution 10"
   ]
  },
  {
   "cell_type": "code",
   "execution_count": 41,
   "metadata": {},
   "outputs": [],
   "source": [
    "class BankAccount:\n",
    "\n",
    "    def __init__(self , account_number , balance):\n",
    "\n",
    "        self.account_number = account_number\n",
    "\n",
    "        self.balance = balance\n",
    "        \n",
    "         "
   ]
  },
  {
   "cell_type": "code",
   "execution_count": 42,
   "metadata": {},
   "outputs": [],
   "source": [
    "class SavingsAccount(BankAccount):\n",
    "\n",
    "    def __init__(self, account_number, balance , calculate_intrest):\n",
    "\n",
    "        super().__init__(account_number, balance)\n",
    "\n",
    "        self.calculate_intrest = calculate_intrest\n",
    "\n",
    "\n",
    "    def account_info(self):\n",
    "\n",
    "        print(\"Saving account Info\")\n",
    "\n",
    "        print(f\" Account Number :  {self.account_number}\")\n",
    "\n",
    "        print(f\"Balance : {self.balance}\")\n",
    "\n",
    "        print(f\"Intrest : {self.calculate_intrest}\")\n",
    "        "
   ]
  },
  {
   "cell_type": "code",
   "execution_count": 43,
   "metadata": {},
   "outputs": [],
   "source": [
    "class CheckingAccount(BankAccount):\n",
    "\n",
    "    def __init__(self, account_number, balance , deduct_fees):\n",
    "\n",
    "        super().__init__(account_number, balance)\n",
    "\n",
    "        self.deduct_fees = deduct_fees\n",
    "\n",
    "\n",
    "    def account_info(self):\n",
    "\n",
    "        print(\"Saving account Info\")\n",
    "\n",
    "        print(f\" Account Number :  {self.account_number}\")\n",
    "\n",
    "        print(f\"Balance : {self.balance}\")\n",
    "\n",
    "        print(f\"Deduct fees : {self.deduct_fees}\")\n",
    "        "
   ]
  },
  {
   "cell_type": "code",
   "execution_count": 44,
   "metadata": {},
   "outputs": [
    {
     "name": "stdout",
     "output_type": "stream",
     "text": [
      "Saving account Info\n",
      " Account Number :  234567\n",
      "Balance : 40000\n",
      "Intrest : 4000\n"
     ]
    }
   ],
   "source": [
    "account1 = SavingsAccount(234567, 40000 , 4000)\n",
    "\n",
    "account1.account_info()"
   ]
  },
  {
   "cell_type": "code",
   "execution_count": 45,
   "metadata": {},
   "outputs": [
    {
     "name": "stdout",
     "output_type": "stream",
     "text": [
      "Saving account Info\n",
      " Account Number :  23768\n",
      "Balance : 50000\n",
      "Deduct fees : 20000\n"
     ]
    }
   ],
   "source": [
    "account2 = CheckingAccount(23768 , 50000 , 20000)\n",
    "\n",
    "account2.account_info()"
   ]
  }
 ],
 "metadata": {
  "kernelspec": {
   "display_name": "Python 3",
   "language": "python",
   "name": "python3"
  },
  "language_info": {
   "codemirror_mode": {
    "name": "ipython",
    "version": 3
   },
   "file_extension": ".py",
   "mimetype": "text/x-python",
   "name": "python",
   "nbconvert_exporter": "python",
   "pygments_lexer": "ipython3",
   "version": "3.11.4"
  }
 },
 "nbformat": 4,
 "nbformat_minor": 2
}
